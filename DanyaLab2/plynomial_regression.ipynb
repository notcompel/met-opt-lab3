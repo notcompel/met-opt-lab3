{
 "cells": [
  {
   "cell_type": "code",
   "execution_count": 3,
   "metadata": {
    "collapsed": true
   },
   "outputs": [],
   "source": [
    "import matplotlib.pyplot as plt\n",
    "import numpy as np\n",
    "\n",
    "import methods"
   ]
  },
  {
   "cell_type": "code",
   "execution_count": 4,
   "outputs": [
    {
     "name": "stdout",
     "output_type": "stream",
     "text": [
      "w: [2.00292522 0.93856044 0.3283761 ], iter: 1201\n"
     ]
    },
    {
     "data": {
      "text/plain": "<Figure size 640x480 with 1 Axes>",
      "image/png": "[encoded data removed]"
     },
     "metadata": {},
     "output_type": "display_data"
    }
   ],
   "source": [
    "np.random.seed(1212)\n",
    "\n",
    "\n",
    "def generate_points(n, dim, f, rg=1):\n",
    "    X = rg * np.random.rand(n, dim)\n",
    "    y = []\n",
    "    X_err = X + 0.1 * np.random.randn(n, dim)\n",
    "    i = 0\n",
    "    for x in X_err:\n",
    "        y.append(f(x))\n",
    "        i += 1\n",
    "    return X, np.asarray(y)\n",
    "\n",
    "\n",
    "def poly_mse(X, y, dim, w, reg):\n",
    "    res = 0\n",
    "    for i in range(len(X)):\n",
    "        x = 0\n",
    "        for j in range(dim):\n",
    "            x += (X[i] ** j) * w[j]\n",
    "        res += (y[i][0] - x[0]) ** 2\n",
    "    res += reg(w)\n",
    "    return res / len(X)\n",
    "\n",
    "\n",
    "def mse_func(X, y, dim, reg=lambda w: 0):\n",
    "    return lambda w: poly_mse(X, y, dim, w, reg)\n",
    "\n",
    "\n",
    "def grad_calculator(x, func, dim):\n",
    "    h = 1e-5\n",
    "    res = []\n",
    "    for i in range(dim):\n",
    "        delta = np.zeros(dim)\n",
    "        delta[i] = h\n",
    "        res.append((func(x + delta) - func(x - delta)) / (2 * h))\n",
    "    return np.asarray(res)\n",
    "\n",
    "\n",
    "def grad_func(f, dim):\n",
    "    return lambda x: grad_calculator(x, f, dim)\n",
    "\n",
    "\n",
    "func = lambda x: 2 + x + 0.3 * x ** 2\n",
    "n = 100\n",
    "dim = 1\n",
    "f_dim = 3\n",
    "rg = 3\n",
    "(X, y) = generate_points(n, dim, func, rg)\n",
    "L1 = lambda alpha: lambda weights: alpha * sum(np.abs(weights))\n",
    "L2 = lambda alpha: lambda weights: alpha * sum(np.square(weights))\n",
    "Elastic = lambda alpha1, alpha2: lambda weights: L1(alpha1)(weights) + L2(alpha2)(weights)\n",
    "f = mse_func(X, y, f_dim)\n",
    "grad = grad_func(f, f_dim)\n",
    "\n",
    "lr = lambda x: 1\n",
    "start = np.zeros(f_dim)\n",
    "\n",
    "(points, iter, _) = methods.sgd_adagrad(f, grad, start, eps_g=1e-4, learning_rate=lr, max_iter=100000)\n",
    "w = points[-1]\n",
    "print(\"w: {}, iter: {}\".format(w, iter))\n",
    "\n",
    "\n",
    "def multiply_x_w(X, w, dim):\n",
    "    res = []\n",
    "    for i in range(len(X)):\n",
    "        cur = 0\n",
    "        for j in range(dim):\n",
    "            cur += (X[i] ** j) * w[j]\n",
    "        res.append(cur)\n",
    "    return res\n",
    "\n",
    "\n",
    "plt.plot(X, y, 'b.')\n",
    "t1 = np.arange(0.0, rg + 0.01, 0.1)\n",
    "Y = multiply_x_w(t1, w, f_dim)\n",
    "plt.plot(t1, Y, '-', color='r', linewidth=3)\n",
    "plt.title('func1')\n",
    "plt.xlabel('x')\n",
    "plt.ylabel('y')\n",
    "plt.show()\n"
   ],
   "metadata": {
    "collapsed": false
   }
  }
 ],
 "metadata": {
  "kernelspec": {
   "display_name": "Python 3",
   "language": "python",
   "name": "python3"
  },
  "language_info": {
   "codemirror_mode": {
    "name": "ipython",
    "version": 2
   },
   "file_extension": ".py",
   "mimetype": "text/x-python",
   "name": "python",
   "nbconvert_exporter": "python",
   "pygments_lexer": "ipython2",
   "version": "2.7.6"
  }
 },
 "nbformat": 4,
 "nbformat_minor": 0
}
